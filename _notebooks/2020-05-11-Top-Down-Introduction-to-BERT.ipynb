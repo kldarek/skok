{
  "nbformat": 4,
  "nbformat_minor": 0,
  "metadata": {
    "colab": {
      "name": "2020-05-11-Top-Down-Introduction-to-BERT.ipynb",
      "provenance": [],
      "collapsed_sections": [],
      "machine_shape": "hm"
    },
    "kernelspec": {
      "name": "python3",
      "display_name": "Python 3"
    },
    "widgets": {
      "application/vnd.jupyter.widget-state+json": {
        "9e189f3690d3459ca567f9039de95556": {
          "model_module": "@jupyter-widgets/controls",
          "model_name": "HBoxModel",
          "state": {
            "_view_name": "HBoxView",
            "_dom_classes": [],
            "_model_name": "HBoxModel",
            "_view_module": "@jupyter-widgets/controls",
            "_model_module_version": "1.5.0",
            "_view_count": null,
            "_view_module_version": "1.5.0",
            "box_style": "",
            "layout": "IPY_MODEL_31575974a4564afda4fdbcb7528578af",
            "_model_module": "@jupyter-widgets/controls",
            "children": [
              "IPY_MODEL_2c089ee927fc481cae4a06db7640d392",
              "IPY_MODEL_f8bcff12540b4f8b88ce96a53dfe4d08"
            ]
          }
        },
        "31575974a4564afda4fdbcb7528578af": {
          "model_module": "@jupyter-widgets/base",
          "model_name": "LayoutModel",
          "state": {
            "_view_name": "LayoutView",
            "grid_template_rows": null,
            "right": null,
            "justify_content": null,
            "_view_module": "@jupyter-widgets/base",
            "overflow": null,
            "_model_module_version": "1.2.0",
            "_view_count": null,
            "flex_flow": null,
            "width": null,
            "min_width": null,
            "border": null,
            "align_items": null,
            "bottom": null,
            "_model_module": "@jupyter-widgets/base",
            "top": null,
            "grid_column": null,
            "overflow_y": null,
            "overflow_x": null,
            "grid_auto_flow": null,
            "grid_area": null,
            "grid_template_columns": null,
            "flex": null,
            "_model_name": "LayoutModel",
            "justify_items": null,
            "grid_row": null,
            "max_height": null,
            "align_content": null,
            "visibility": null,
            "align_self": null,
            "height": null,
            "min_height": null,
            "padding": null,
            "grid_auto_rows": null,
            "grid_gap": null,
            "max_width": null,
            "order": null,
            "_view_module_version": "1.2.0",
            "grid_template_areas": null,
            "object_position": null,
            "object_fit": null,
            "grid_auto_columns": null,
            "margin": null,
            "display": null,
            "left": null
          }
        },
        "2c089ee927fc481cae4a06db7640d392": {
          "model_module": "@jupyter-widgets/controls",
          "model_name": "FloatProgressModel",
          "state": {
            "_view_name": "ProgressView",
            "style": "IPY_MODEL_473ca9ca108642b7bb172fa6557933ff",
            "_dom_classes": [],
            "description": "Downloading: 100%",
            "_model_name": "FloatProgressModel",
            "bar_style": "success",
            "max": 230,
            "_view_module": "@jupyter-widgets/controls",
            "_model_module_version": "1.5.0",
            "value": 230,
            "_view_count": null,
            "_view_module_version": "1.5.0",
            "orientation": "horizontal",
            "min": 0,
            "description_tooltip": null,
            "_model_module": "@jupyter-widgets/controls",
            "layout": "IPY_MODEL_a4d17e67455f40fc9aeb3cf3bf741a33"
          }
        },
        "f8bcff12540b4f8b88ce96a53dfe4d08": {
          "model_module": "@jupyter-widgets/controls",
          "model_name": "HTMLModel",
          "state": {
            "_view_name": "HTMLView",
            "style": "IPY_MODEL_956847eeb5104827b783f2cc56351136",
            "_dom_classes": [],
            "description": "",
            "_model_name": "HTMLModel",
            "placeholder": "​",
            "_view_module": "@jupyter-widgets/controls",
            "_model_module_version": "1.5.0",
            "value": " 230/230 [00:00&lt;00:00, 460B/s]",
            "_view_count": null,
            "_view_module_version": "1.5.0",
            "description_tooltip": null,
            "_model_module": "@jupyter-widgets/controls",
            "layout": "IPY_MODEL_1bfe32cb4a7448bab3496d84b153d8bf"
          }
        },
        "473ca9ca108642b7bb172fa6557933ff": {
          "model_module": "@jupyter-widgets/controls",
          "model_name": "ProgressStyleModel",
          "state": {
            "_view_name": "StyleView",
            "_model_name": "ProgressStyleModel",
            "description_width": "initial",
            "_view_module": "@jupyter-widgets/base",
            "_model_module_version": "1.5.0",
            "_view_count": null,
            "_view_module_version": "1.2.0",
            "bar_color": null,
            "_model_module": "@jupyter-widgets/controls"
          }
        },
        "a4d17e67455f40fc9aeb3cf3bf741a33": {
          "model_module": "@jupyter-widgets/base",
          "model_name": "LayoutModel",
          "state": {
            "_view_name": "LayoutView",
            "grid_template_rows": null,
            "right": null,
            "justify_content": null,
            "_view_module": "@jupyter-widgets/base",
            "overflow": null,
            "_model_module_version": "1.2.0",
            "_view_count": null,
            "flex_flow": null,
            "width": null,
            "min_width": null,
            "border": null,
            "align_items": null,
            "bottom": null,
            "_model_module": "@jupyter-widgets/base",
            "top": null,
            "grid_column": null,
            "overflow_y": null,
            "overflow_x": null,
            "grid_auto_flow": null,
            "grid_area": null,
            "grid_template_columns": null,
            "flex": null,
            "_model_name": "LayoutModel",
            "justify_items": null,
            "grid_row": null,
            "max_height": null,
            "align_content": null,
            "visibility": null,
            "align_self": null,
            "height": null,
            "min_height": null,
            "padding": null,
            "grid_auto_rows": null,
            "grid_gap": null,
            "max_width": null,
            "order": null,
            "_view_module_version": "1.2.0",
            "grid_template_areas": null,
            "object_position": null,
            "object_fit": null,
            "grid_auto_columns": null,
            "margin": null,
            "display": null,
            "left": null
          }
        },
        "956847eeb5104827b783f2cc56351136": {
          "model_module": "@jupyter-widgets/controls",
          "model_name": "DescriptionStyleModel",
          "state": {
            "_view_name": "StyleView",
            "_model_name": "DescriptionStyleModel",
            "description_width": "",
            "_view_module": "@jupyter-widgets/base",
            "_model_module_version": "1.5.0",
            "_view_count": null,
            "_view_module_version": "1.2.0",
            "_model_module": "@jupyter-widgets/controls"
          }
        },
        "1bfe32cb4a7448bab3496d84b153d8bf": {
          "model_module": "@jupyter-widgets/base",
          "model_name": "LayoutModel",
          "state": {
            "_view_name": "LayoutView",
            "grid_template_rows": null,
            "right": null,
            "justify_content": null,
            "_view_module": "@jupyter-widgets/base",
            "overflow": null,
            "_model_module_version": "1.2.0",
            "_view_count": null,
            "flex_flow": null,
            "width": null,
            "min_width": null,
            "border": null,
            "align_items": null,
            "bottom": null,
            "_model_module": "@jupyter-widgets/base",
            "top": null,
            "grid_column": null,
            "overflow_y": null,
            "overflow_x": null,
            "grid_auto_flow": null,
            "grid_area": null,
            "grid_template_columns": null,
            "flex": null,
            "_model_name": "LayoutModel",
            "justify_items": null,
            "grid_row": null,
            "max_height": null,
            "align_content": null,
            "visibility": null,
            "align_self": null,
            "height": null,
            "min_height": null,
            "padding": null,
            "grid_auto_rows": null,
            "grid_gap": null,
            "max_width": null,
            "order": null,
            "_view_module_version": "1.2.0",
            "grid_template_areas": null,
            "object_position": null,
            "object_fit": null,
            "grid_auto_columns": null,
            "margin": null,
            "display": null,
            "left": null
          }
        },
        "c486c06c15654b7888e0d43f5455e5a9": {
          "model_module": "@jupyter-widgets/controls",
          "model_name": "HBoxModel",
          "state": {
            "_view_name": "HBoxView",
            "_dom_classes": [],
            "_model_name": "HBoxModel",
            "_view_module": "@jupyter-widgets/controls",
            "_model_module_version": "1.5.0",
            "_view_count": null,
            "_view_module_version": "1.5.0",
            "box_style": "",
            "layout": "IPY_MODEL_c08c26403a4040998ff2c117ac40d277",
            "_model_module": "@jupyter-widgets/controls",
            "children": [
              "IPY_MODEL_112ab27ab1ab4dc7b5e867b66952f27a",
              "IPY_MODEL_cc15eebaec064edebb856d150e06a435"
            ]
          }
        },
        "c08c26403a4040998ff2c117ac40d277": {
          "model_module": "@jupyter-widgets/base",
          "model_name": "LayoutModel",
          "state": {
            "_view_name": "LayoutView",
            "grid_template_rows": null,
            "right": null,
            "justify_content": null,
            "_view_module": "@jupyter-widgets/base",
            "overflow": null,
            "_model_module_version": "1.2.0",
            "_view_count": null,
            "flex_flow": null,
            "width": null,
            "min_width": null,
            "border": null,
            "align_items": null,
            "bottom": null,
            "_model_module": "@jupyter-widgets/base",
            "top": null,
            "grid_column": null,
            "overflow_y": null,
            "overflow_x": null,
            "grid_auto_flow": null,
            "grid_area": null,
            "grid_template_columns": null,
            "flex": null,
            "_model_name": "LayoutModel",
            "justify_items": null,
            "grid_row": null,
            "max_height": null,
            "align_content": null,
            "visibility": null,
            "align_self": null,
            "height": null,
            "min_height": null,
            "padding": null,
            "grid_auto_rows": null,
            "grid_gap": null,
            "max_width": null,
            "order": null,
            "_view_module_version": "1.2.0",
            "grid_template_areas": null,
            "object_position": null,
            "object_fit": null,
            "grid_auto_columns": null,
            "margin": null,
            "display": null,
            "left": null
          }
        },
        "112ab27ab1ab4dc7b5e867b66952f27a": {
          "model_module": "@jupyter-widgets/controls",
          "model_name": "FloatProgressModel",
          "state": {
            "_view_name": "ProgressView",
            "style": "IPY_MODEL_47005eb752344d378055de2b8fe29ba3",
            "_dom_classes": [],
            "description": "Downloading: 100%",
            "_model_name": "FloatProgressModel",
            "bar_style": "success",
            "max": 230,
            "_view_module": "@jupyter-widgets/controls",
            "_model_module_version": "1.5.0",
            "value": 230,
            "_view_count": null,
            "_view_module_version": "1.5.0",
            "orientation": "horizontal",
            "min": 0,
            "description_tooltip": null,
            "_model_module": "@jupyter-widgets/controls",
            "layout": "IPY_MODEL_16b074eb46844a86848e0354d0388b5f"
          }
        },
        "cc15eebaec064edebb856d150e06a435": {
          "model_module": "@jupyter-widgets/controls",
          "model_name": "HTMLModel",
          "state": {
            "_view_name": "HTMLView",
            "style": "IPY_MODEL_12b98b02c5744783b3a64936e62f335c",
            "_dom_classes": [],
            "description": "",
            "_model_name": "HTMLModel",
            "placeholder": "​",
            "_view_module": "@jupyter-widgets/controls",
            "_model_module_version": "1.5.0",
            "value": " 230/230 [00:00&lt;00:00, 302B/s]",
            "_view_count": null,
            "_view_module_version": "1.5.0",
            "description_tooltip": null,
            "_model_module": "@jupyter-widgets/controls",
            "layout": "IPY_MODEL_83ae1f290d0e42c390f4eda1ff2fe9ca"
          }
        },
        "47005eb752344d378055de2b8fe29ba3": {
          "model_module": "@jupyter-widgets/controls",
          "model_name": "ProgressStyleModel",
          "state": {
            "_view_name": "StyleView",
            "_model_name": "ProgressStyleModel",
            "description_width": "initial",
            "_view_module": "@jupyter-widgets/base",
            "_model_module_version": "1.5.0",
            "_view_count": null,
            "_view_module_version": "1.2.0",
            "bar_color": null,
            "_model_module": "@jupyter-widgets/controls"
          }
        },
        "16b074eb46844a86848e0354d0388b5f": {
          "model_module": "@jupyter-widgets/base",
          "model_name": "LayoutModel",
          "state": {
            "_view_name": "LayoutView",
            "grid_template_rows": null,
            "right": null,
            "justify_content": null,
            "_view_module": "@jupyter-widgets/base",
            "overflow": null,
            "_model_module_version": "1.2.0",
            "_view_count": null,
            "flex_flow": null,
            "width": null,
            "min_width": null,
            "border": null,
            "align_items": null,
            "bottom": null,
            "_model_module": "@jupyter-widgets/base",
            "top": null,
            "grid_column": null,
            "overflow_y": null,
            "overflow_x": null,
            "grid_auto_flow": null,
            "grid_area": null,
            "grid_template_columns": null,
            "flex": null,
            "_model_name": "LayoutModel",
            "justify_items": null,
            "grid_row": null,
            "max_height": null,
            "align_content": null,
            "visibility": null,
            "align_self": null,
            "height": null,
            "min_height": null,
            "padding": null,
            "grid_auto_rows": null,
            "grid_gap": null,
            "max_width": null,
            "order": null,
            "_view_module_version": "1.2.0",
            "grid_template_areas": null,
            "object_position": null,
            "object_fit": null,
            "grid_auto_columns": null,
            "margin": null,
            "display": null,
            "left": null
          }
        },
        "12b98b02c5744783b3a64936e62f335c": {
          "model_module": "@jupyter-widgets/controls",
          "model_name": "DescriptionStyleModel",
          "state": {
            "_view_name": "StyleView",
            "_model_name": "DescriptionStyleModel",
            "description_width": "",
            "_view_module": "@jupyter-widgets/base",
            "_model_module_version": "1.5.0",
            "_view_count": null,
            "_view_module_version": "1.2.0",
            "_model_module": "@jupyter-widgets/controls"
          }
        },
        "83ae1f290d0e42c390f4eda1ff2fe9ca": {
          "model_module": "@jupyter-widgets/base",
          "model_name": "LayoutModel",
          "state": {
            "_view_name": "LayoutView",
            "grid_template_rows": null,
            "right": null,
            "justify_content": null,
            "_view_module": "@jupyter-widgets/base",
            "overflow": null,
            "_model_module_version": "1.2.0",
            "_view_count": null,
            "flex_flow": null,
            "width": null,
            "min_width": null,
            "border": null,
            "align_items": null,
            "bottom": null,
            "_model_module": "@jupyter-widgets/base",
            "top": null,
            "grid_column": null,
            "overflow_y": null,
            "overflow_x": null,
            "grid_auto_flow": null,
            "grid_area": null,
            "grid_template_columns": null,
            "flex": null,
            "_model_name": "LayoutModel",
            "justify_items": null,
            "grid_row": null,
            "max_height": null,
            "align_content": null,
            "visibility": null,
            "align_self": null,
            "height": null,
            "min_height": null,
            "padding": null,
            "grid_auto_rows": null,
            "grid_gap": null,
            "max_width": null,
            "order": null,
            "_view_module_version": "1.2.0",
            "grid_template_areas": null,
            "object_position": null,
            "object_fit": null,
            "grid_auto_columns": null,
            "margin": null,
            "display": null,
            "left": null
          }
        },
        "533a20b53f8f4c57ba48ad937f73ef74": {
          "model_module": "@jupyter-widgets/controls",
          "model_name": "HBoxModel",
          "state": {
            "_view_name": "HBoxView",
            "_dom_classes": [],
            "_model_name": "HBoxModel",
            "_view_module": "@jupyter-widgets/controls",
            "_model_module_version": "1.5.0",
            "_view_count": null,
            "_view_module_version": "1.5.0",
            "box_style": "",
            "layout": "IPY_MODEL_80dcfc3ee55f4858a557e0ebfef27c36",
            "_model_module": "@jupyter-widgets/controls",
            "children": [
              "IPY_MODEL_d9d3ac07a55e4e1fb3f6e333eeac48e1",
              "IPY_MODEL_558376dee0b8455db47aa05ab259a4e4"
            ]
          }
        },
        "80dcfc3ee55f4858a557e0ebfef27c36": {
          "model_module": "@jupyter-widgets/base",
          "model_name": "LayoutModel",
          "state": {
            "_view_name": "LayoutView",
            "grid_template_rows": null,
            "right": null,
            "justify_content": null,
            "_view_module": "@jupyter-widgets/base",
            "overflow": null,
            "_model_module_version": "1.2.0",
            "_view_count": null,
            "flex_flow": null,
            "width": null,
            "min_width": null,
            "border": null,
            "align_items": null,
            "bottom": null,
            "_model_module": "@jupyter-widgets/base",
            "top": null,
            "grid_column": null,
            "overflow_y": null,
            "overflow_x": null,
            "grid_auto_flow": null,
            "grid_area": null,
            "grid_template_columns": null,
            "flex": null,
            "_model_name": "LayoutModel",
            "justify_items": null,
            "grid_row": null,
            "max_height": null,
            "align_content": null,
            "visibility": null,
            "align_self": null,
            "height": null,
            "min_height": null,
            "padding": null,
            "grid_auto_rows": null,
            "grid_gap": null,
            "max_width": null,
            "order": null,
            "_view_module_version": "1.2.0",
            "grid_template_areas": null,
            "object_position": null,
            "object_fit": null,
            "grid_auto_columns": null,
            "margin": null,
            "display": null,
            "left": null
          }
        },
        "d9d3ac07a55e4e1fb3f6e333eeac48e1": {
          "model_module": "@jupyter-widgets/controls",
          "model_name": "FloatProgressModel",
          "state": {
            "_view_name": "ProgressView",
            "style": "IPY_MODEL_b589d0f67ff1464b80ba9c846f2aba2b",
            "_dom_classes": [],
            "description": "Downloading: 100%",
            "_model_name": "FloatProgressModel",
            "bar_style": "success",
            "max": 230,
            "_view_module": "@jupyter-widgets/controls",
            "_model_module_version": "1.5.0",
            "value": 230,
            "_view_count": null,
            "_view_module_version": "1.5.0",
            "orientation": "horizontal",
            "min": 0,
            "description_tooltip": null,
            "_model_module": "@jupyter-widgets/controls",
            "layout": "IPY_MODEL_cb6236202f74464dacd8c83c73033c22"
          }
        },
        "558376dee0b8455db47aa05ab259a4e4": {
          "model_module": "@jupyter-widgets/controls",
          "model_name": "HTMLModel",
          "state": {
            "_view_name": "HTMLView",
            "style": "IPY_MODEL_547433caaaa749d5a167b388aef31959",
            "_dom_classes": [],
            "description": "",
            "_model_name": "HTMLModel",
            "placeholder": "​",
            "_view_module": "@jupyter-widgets/controls",
            "_model_module_version": "1.5.0",
            "value": " 230/230 [00:01&lt;00:00, 135B/s]",
            "_view_count": null,
            "_view_module_version": "1.5.0",
            "description_tooltip": null,
            "_model_module": "@jupyter-widgets/controls",
            "layout": "IPY_MODEL_d5443c13b4b14d8eac3bba97fa25658d"
          }
        },
        "b589d0f67ff1464b80ba9c846f2aba2b": {
          "model_module": "@jupyter-widgets/controls",
          "model_name": "ProgressStyleModel",
          "state": {
            "_view_name": "StyleView",
            "_model_name": "ProgressStyleModel",
            "description_width": "initial",
            "_view_module": "@jupyter-widgets/base",
            "_model_module_version": "1.5.0",
            "_view_count": null,
            "_view_module_version": "1.2.0",
            "bar_color": null,
            "_model_module": "@jupyter-widgets/controls"
          }
        },
        "cb6236202f74464dacd8c83c73033c22": {
          "model_module": "@jupyter-widgets/base",
          "model_name": "LayoutModel",
          "state": {
            "_view_name": "LayoutView",
            "grid_template_rows": null,
            "right": null,
            "justify_content": null,
            "_view_module": "@jupyter-widgets/base",
            "overflow": null,
            "_model_module_version": "1.2.0",
            "_view_count": null,
            "flex_flow": null,
            "width": null,
            "min_width": null,
            "border": null,
            "align_items": null,
            "bottom": null,
            "_model_module": "@jupyter-widgets/base",
            "top": null,
            "grid_column": null,
            "overflow_y": null,
            "overflow_x": null,
            "grid_auto_flow": null,
            "grid_area": null,
            "grid_template_columns": null,
            "flex": null,
            "_model_name": "LayoutModel",
            "justify_items": null,
            "grid_row": null,
            "max_height": null,
            "align_content": null,
            "visibility": null,
            "align_self": null,
            "height": null,
            "min_height": null,
            "padding": null,
            "grid_auto_rows": null,
            "grid_gap": null,
            "max_width": null,
            "order": null,
            "_view_module_version": "1.2.0",
            "grid_template_areas": null,
            "object_position": null,
            "object_fit": null,
            "grid_auto_columns": null,
            "margin": null,
            "display": null,
            "left": null
          }
        },
        "547433caaaa749d5a167b388aef31959": {
          "model_module": "@jupyter-widgets/controls",
          "model_name": "DescriptionStyleModel",
          "state": {
            "_view_name": "StyleView",
            "_model_name": "DescriptionStyleModel",
            "description_width": "",
            "_view_module": "@jupyter-widgets/base",
            "_model_module_version": "1.5.0",
            "_view_count": null,
            "_view_module_version": "1.2.0",
            "_model_module": "@jupyter-widgets/controls"
          }
        },
        "d5443c13b4b14d8eac3bba97fa25658d": {
          "model_module": "@jupyter-widgets/base",
          "model_name": "LayoutModel",
          "state": {
            "_view_name": "LayoutView",
            "grid_template_rows": null,
            "right": null,
            "justify_content": null,
            "_view_module": "@jupyter-widgets/base",
            "overflow": null,
            "_model_module_version": "1.2.0",
            "_view_count": null,
            "flex_flow": null,
            "width": null,
            "min_width": null,
            "border": null,
            "align_items": null,
            "bottom": null,
            "_model_module": "@jupyter-widgets/base",
            "top": null,
            "grid_column": null,
            "overflow_y": null,
            "overflow_x": null,
            "grid_auto_flow": null,
            "grid_area": null,
            "grid_template_columns": null,
            "flex": null,
            "_model_name": "LayoutModel",
            "justify_items": null,
            "grid_row": null,
            "max_height": null,
            "align_content": null,
            "visibility": null,
            "align_self": null,
            "height": null,
            "min_height": null,
            "padding": null,
            "grid_auto_rows": null,
            "grid_gap": null,
            "max_width": null,
            "order": null,
            "_view_module_version": "1.2.0",
            "grid_template_areas": null,
            "object_position": null,
            "object_fit": null,
            "grid_auto_columns": null,
            "margin": null,
            "display": null,
            "left": null
          }
        },
        "088fc19cca5d459093d192c921a20a1d": {
          "model_module": "@jupyter-widgets/controls",
          "model_name": "HBoxModel",
          "state": {
            "_view_name": "HBoxView",
            "_dom_classes": [],
            "_model_name": "HBoxModel",
            "_view_module": "@jupyter-widgets/controls",
            "_model_module_version": "1.5.0",
            "_view_count": null,
            "_view_module_version": "1.5.0",
            "box_style": "",
            "layout": "IPY_MODEL_e7844cad7b25460cb7d027ee38b90f00",
            "_model_module": "@jupyter-widgets/controls",
            "children": [
              "IPY_MODEL_5e0c0ba9fe7243e6b468417d6e0c3995",
              "IPY_MODEL_f9ce3cfb762d4c42ac34335503e9016c"
            ]
          }
        },
        "e7844cad7b25460cb7d027ee38b90f00": {
          "model_module": "@jupyter-widgets/base",
          "model_name": "LayoutModel",
          "state": {
            "_view_name": "LayoutView",
            "grid_template_rows": null,
            "right": null,
            "justify_content": null,
            "_view_module": "@jupyter-widgets/base",
            "overflow": null,
            "_model_module_version": "1.2.0",
            "_view_count": null,
            "flex_flow": null,
            "width": null,
            "min_width": null,
            "border": null,
            "align_items": null,
            "bottom": null,
            "_model_module": "@jupyter-widgets/base",
            "top": null,
            "grid_column": null,
            "overflow_y": null,
            "overflow_x": null,
            "grid_auto_flow": null,
            "grid_area": null,
            "grid_template_columns": null,
            "flex": null,
            "_model_name": "LayoutModel",
            "justify_items": null,
            "grid_row": null,
            "max_height": null,
            "align_content": null,
            "visibility": null,
            "align_self": null,
            "height": null,
            "min_height": null,
            "padding": null,
            "grid_auto_rows": null,
            "grid_gap": null,
            "max_width": null,
            "order": null,
            "_view_module_version": "1.2.0",
            "grid_template_areas": null,
            "object_position": null,
            "object_fit": null,
            "grid_auto_columns": null,
            "margin": null,
            "display": null,
            "left": null
          }
        },
        "5e0c0ba9fe7243e6b468417d6e0c3995": {
          "model_module": "@jupyter-widgets/controls",
          "model_name": "FloatProgressModel",
          "state": {
            "_view_name": "ProgressView",
            "style": "IPY_MODEL_ba6c00e4e2f14a51b85bf42b5484333b",
            "_dom_classes": [],
            "description": "Downloading: 100%",
            "_model_name": "FloatProgressModel",
            "bar_style": "success",
            "max": 230,
            "_view_module": "@jupyter-widgets/controls",
            "_model_module_version": "1.5.0",
            "value": 230,
            "_view_count": null,
            "_view_module_version": "1.5.0",
            "orientation": "horizontal",
            "min": 0,
            "description_tooltip": null,
            "_model_module": "@jupyter-widgets/controls",
            "layout": "IPY_MODEL_43e05f14fc7a4de6baaff9fafe97755c"
          }
        },
        "f9ce3cfb762d4c42ac34335503e9016c": {
          "model_module": "@jupyter-widgets/controls",
          "model_name": "HTMLModel",
          "state": {
            "_view_name": "HTMLView",
            "style": "IPY_MODEL_c508fd357df441baaae07aee4d5f75a4",
            "_dom_classes": [],
            "description": "",
            "_model_name": "HTMLModel",
            "placeholder": "​",
            "_view_module": "@jupyter-widgets/controls",
            "_model_module_version": "1.5.0",
            "value": " 230/230 [00:00&lt;00:00, 266B/s]",
            "_view_count": null,
            "_view_module_version": "1.5.0",
            "description_tooltip": null,
            "_model_module": "@jupyter-widgets/controls",
            "layout": "IPY_MODEL_654a4c9f5c554b8c8943d2a9fe2be7a0"
          }
        },
        "ba6c00e4e2f14a51b85bf42b5484333b": {
          "model_module": "@jupyter-widgets/controls",
          "model_name": "ProgressStyleModel",
          "state": {
            "_view_name": "StyleView",
            "_model_name": "ProgressStyleModel",
            "description_width": "initial",
            "_view_module": "@jupyter-widgets/base",
            "_model_module_version": "1.5.0",
            "_view_count": null,
            "_view_module_version": "1.2.0",
            "bar_color": null,
            "_model_module": "@jupyter-widgets/controls"
          }
        },
        "43e05f14fc7a4de6baaff9fafe97755c": {
          "model_module": "@jupyter-widgets/base",
          "model_name": "LayoutModel",
          "state": {
            "_view_name": "LayoutView",
            "grid_template_rows": null,
            "right": null,
            "justify_content": null,
            "_view_module": "@jupyter-widgets/base",
            "overflow": null,
            "_model_module_version": "1.2.0",
            "_view_count": null,
            "flex_flow": null,
            "width": null,
            "min_width": null,
            "border": null,
            "align_items": null,
            "bottom": null,
            "_model_module": "@jupyter-widgets/base",
            "top": null,
            "grid_column": null,
            "overflow_y": null,
            "overflow_x": null,
            "grid_auto_flow": null,
            "grid_area": null,
            "grid_template_columns": null,
            "flex": null,
            "_model_name": "LayoutModel",
            "justify_items": null,
            "grid_row": null,
            "max_height": null,
            "align_content": null,
            "visibility": null,
            "align_self": null,
            "height": null,
            "min_height": null,
            "padding": null,
            "grid_auto_rows": null,
            "grid_gap": null,
            "max_width": null,
            "order": null,
            "_view_module_version": "1.2.0",
            "grid_template_areas": null,
            "object_position": null,
            "object_fit": null,
            "grid_auto_columns": null,
            "margin": null,
            "display": null,
            "left": null
          }
        },
        "c508fd357df441baaae07aee4d5f75a4": {
          "model_module": "@jupyter-widgets/controls",
          "model_name": "DescriptionStyleModel",
          "state": {
            "_view_name": "StyleView",
            "_model_name": "DescriptionStyleModel",
            "description_width": "",
            "_view_module": "@jupyter-widgets/base",
            "_model_module_version": "1.5.0",
            "_view_count": null,
            "_view_module_version": "1.2.0",
            "_model_module": "@jupyter-widgets/controls"
          }
        },
        "654a4c9f5c554b8c8943d2a9fe2be7a0": {
          "model_module": "@jupyter-widgets/base",
          "model_name": "LayoutModel",
          "state": {
            "_view_name": "LayoutView",
            "grid_template_rows": null,
            "right": null,
            "justify_content": null,
            "_view_module": "@jupyter-widgets/base",
            "overflow": null,
            "_model_module_version": "1.2.0",
            "_view_count": null,
            "flex_flow": null,
            "width": null,
            "min_width": null,
            "border": null,
            "align_items": null,
            "bottom": null,
            "_model_module": "@jupyter-widgets/base",
            "top": null,
            "grid_column": null,
            "overflow_y": null,
            "overflow_x": null,
            "grid_auto_flow": null,
            "grid_area": null,
            "grid_template_columns": null,
            "flex": null,
            "_model_name": "LayoutModel",
            "justify_items": null,
            "grid_row": null,
            "max_height": null,
            "align_content": null,
            "visibility": null,
            "align_self": null,
            "height": null,
            "min_height": null,
            "padding": null,
            "grid_auto_rows": null,
            "grid_gap": null,
            "max_width": null,
            "order": null,
            "_view_module_version": "1.2.0",
            "grid_template_areas": null,
            "object_position": null,
            "object_fit": null,
            "grid_auto_columns": null,
            "margin": null,
            "display": null,
            "left": null
          }
        }
      }
    }
  },
  "cells": [
    {
      "cell_type": "markdown",
      "metadata": {
        "id": "TDKzRGu02ezK",
        "colab_type": "text"
      },
      "source": [
        "# Top Down Introduction to BERT with HuggingFace and PyTorch"
      ]
    },
    {
      "cell_type": "markdown",
      "metadata": {
        "id": "mOCOs1l1URq7",
        "colab_type": "text"
      },
      "source": [
        "If you're just getting started with BERT, this article is for you. I will explain the most popular use cases, the inputs and outputs of the model, and how it was trained. I will also provide some intuition into how it works, and will refer your to several excellent guides if you'd like to get deeper. \n",
        "\n",
        "I've spent the last couple of months working on different NLP tasks, including text classification, question answering, and named entity recognition. BERT has been my starting point for each of these use cases - even though there is a bunch of new transformer-based architectures, it still performs surprisingly well, as evidenced by the recent Kaggle NLP competitions. Eventually, I also ended up training my own BERT model for Polish language and was the first to make it broadly available via HuggingFace library. \n",
        "\n",
        "Fortunately, you probably won't need to train your own BERT - pre-trained  models are available for many languages, including several Polish language models published now."
      ]
    },
    {
      "cell_type": "markdown",
      "metadata": {
        "id": "8cczWAGtrKMz",
        "colab_type": "text"
      },
      "source": [
        "## HuggingFace and PyTorch\n",
        "\n",
        "HuggingFace Transformers is an excellent library that makes it easy to apply cutting edge NLP models. I will use their code, such as pipelines, to demonstrate the most popular use cases for BERT. We will need pre-trained model weights, which are also hosted by HuggingFace. I will use PyTorch in some examples."
      ]
    },
    {
      "cell_type": "code",
      "metadata": {
        "id": "gQc1i0prpyf6",
        "colab_type": "code",
        "colab": {}
      },
      "source": [
        "!pip install transformers -q"
      ],
      "execution_count": 0,
      "outputs": []
    },
    {
      "cell_type": "code",
      "metadata": {
        "id": "ePhXKPSRrGaX",
        "colab_type": "code",
        "colab": {}
      },
      "source": [
        "from transformers import pipeline, BertTokenizer, BertModel, BertForNextSentencePrediction, BertConfig\n",
        "import torch"
      ],
      "execution_count": 0,
      "outputs": []
    },
    {
      "cell_type": "markdown",
      "metadata": {
        "id": "6g3b8-tpqjBe",
        "colab_type": "text"
      },
      "source": [
        "# What can I use BERT for?"
      ]
    },
    {
      "cell_type": "markdown",
      "metadata": {
        "id": "TXMqonNsrl5u",
        "colab_type": "text"
      },
      "source": [
        "### Text classification\n",
        "\n",
        "Probably the most popular use case for BERT is text classification. This means that we are dealing with sequences of text and want to classify them into discrete categories.\n",
        "\n",
        "Here are some examples of text sequences and categories:\n",
        "* Movie Review - Sentiment: positive, negative\n",
        "* Product Review - Rating: one to five stars\n",
        "* Email - Intent: product question, pricing question, complaint, other\n",
        "\n",
        "Below is a code example of sentiment classification use case. "
      ]
    },
    {
      "cell_type": "code",
      "metadata": {
        "id": "SeQ1YYf6p78X",
        "colab_type": "code",
        "outputId": "6065a1b0-e404-47e6-f7c5-d544d2d3643c",
        "colab": {
          "base_uri": "https://localhost:8080/",
          "height": 101,
          "referenced_widgets": [
            "9e189f3690d3459ca567f9039de95556",
            "31575974a4564afda4fdbcb7528578af",
            "2c089ee927fc481cae4a06db7640d392",
            "f8bcff12540b4f8b88ce96a53dfe4d08",
            "473ca9ca108642b7bb172fa6557933ff",
            "a4d17e67455f40fc9aeb3cf3bf741a33",
            "956847eeb5104827b783f2cc56351136",
            "1bfe32cb4a7448bab3496d84b153d8bf"
          ]
        }
      },
      "source": [
        "# Text classification - sentiment analysis\n",
        "nlp = pipeline(\"sentiment-analysis\")\n",
        "\n",
        "print(nlp(\"This movie was great!\"))\n",
        "print(nlp(\"I have just wasted 2 hours of my time.\"))"
      ],
      "execution_count": 35,
      "outputs": [
        {
          "output_type": "display_data",
          "data": {
            "application/vnd.jupyter.widget-view+json": {
              "model_id": "9e189f3690d3459ca567f9039de95556",
              "version_minor": 0,
              "version_major": 2
            },
            "text/plain": [
              "HBox(children=(FloatProgress(value=0.0, description='Downloading', max=230.0, style=ProgressStyle(description_…"
            ]
          },
          "metadata": {
            "tags": []
          }
        },
        {
          "output_type": "stream",
          "text": [
            "\n",
            "[{'label': 'POSITIVE', 'score': 0.6986343860626221}]\n",
            "[{'label': 'NEGATIVE', 'score': 0.9613907337188721}]\n"
          ],
          "name": "stdout"
        }
      ]
    },
    {
      "cell_type": "markdown",
      "metadata": {
        "id": "su6VYKphAvtk",
        "colab_type": "text"
      },
      "source": [
        "### Named Entity Recognition\n",
        "\n",
        "Sometimes, we're not interested in the overall text, but specific words in it. Maybe we want to extract the company name from a report. Or the start and end date of hotel reservation from an email. \n",
        "\n",
        "That means that we need to apply classification at the word level - well, actually BERT doesn't work with words, but tokens (more on that later on), so let's call it token classification. \n",
        "\n",
        "There are existing pre-trained models for common types of named entities, like people names, organization names or locations. Let's see how this performs on an example text. Note that we will only print out the named entities, the tokens classified in the 'Other' category will be ommitted. "
      ]
    },
    {
      "cell_type": "code",
      "metadata": {
        "id": "sfFP9WXHqtdS",
        "colab_type": "code",
        "outputId": "50dc3ad7-988f-4e7d-b165-be212c9c9868",
        "colab": {
          "base_uri": "https://localhost:8080/",
          "height": 118,
          "referenced_widgets": [
            "c486c06c15654b7888e0d43f5455e5a9",
            "c08c26403a4040998ff2c117ac40d277",
            "112ab27ab1ab4dc7b5e867b66952f27a",
            "cc15eebaec064edebb856d150e06a435",
            "47005eb752344d378055de2b8fe29ba3",
            "16b074eb46844a86848e0354d0388b5f",
            "12b98b02c5744783b3a64936e62f335c",
            "83ae1f290d0e42c390f4eda1ff2fe9ca"
          ]
        }
      },
      "source": [
        "# NER / token classification\n",
        "nlp = pipeline(\"ner\")\n",
        "\n",
        "sequence = \"My name is Darek and I live in Warsaw.\"\n",
        "\n",
        "for token in nlp(sequence): print(token)"
      ],
      "execution_count": 36,
      "outputs": [
        {
          "output_type": "display_data",
          "data": {
            "application/vnd.jupyter.widget-view+json": {
              "model_id": "c486c06c15654b7888e0d43f5455e5a9",
              "version_minor": 0,
              "version_major": 2
            },
            "text/plain": [
              "HBox(children=(FloatProgress(value=0.0, description='Downloading', max=230.0, style=ProgressStyle(description_…"
            ]
          },
          "metadata": {
            "tags": []
          }
        },
        {
          "output_type": "stream",
          "text": [
            "\n",
            "{'word': 'Dare', 'score': 0.9987152218818665, 'entity': 'I-PER'}\n",
            "{'word': '##k', 'score': 0.9988871812820435, 'entity': 'I-PER'}\n",
            "{'word': 'Warsaw', 'score': 0.9978176355361938, 'entity': 'I-LOC'}\n"
          ],
          "name": "stdout"
        }
      ]
    },
    {
      "cell_type": "markdown",
      "metadata": {
        "id": "tca-yfz1EMFQ",
        "colab_type": "text"
      },
      "source": [
        "### Question Answering\n",
        "\n",
        "Wouldn't it be great if we simply asked a question and got an answer? That is certainly a direction where some of the NLP research is heading (for example [T5](https://ai.googleblog.com/2020/02/exploring-transfer-learning-with-t5.html)). BERT can only handle extractive question answering. It means that we provide it with a context, such as a Wikipedia article, and a question related to the context. BERT will find for us the most likely place in the article that contains an answer to our question, or inform us that an answer is not likely to be found. "
      ]
    },
    {
      "cell_type": "code",
      "metadata": {
        "id": "ykekP9TSqwAb",
        "colab_type": "code",
        "outputId": "e53d63a0-1497-4218-e10c-26df6cb9cb3d",
        "colab": {
          "base_uri": "https://localhost:8080/",
          "height": 101,
          "referenced_widgets": [
            "533a20b53f8f4c57ba48ad937f73ef74",
            "80dcfc3ee55f4858a557e0ebfef27c36",
            "d9d3ac07a55e4e1fb3f6e333eeac48e1",
            "558376dee0b8455db47aa05ab259a4e4",
            "b589d0f67ff1464b80ba9c846f2aba2b",
            "cb6236202f74464dacd8c83c73033c22",
            "547433caaaa749d5a167b388aef31959",
            "d5443c13b4b14d8eac3bba97fa25658d"
          ]
        }
      },
      "source": [
        "# Question Answering\n",
        "nlp = pipeline(\"question-answering\")\n",
        "\n",
        "context = \"My name is Darek. I'm Polish. I like to practice kungfu. My home is in Warsaw but I often travel to Berlin. My friend, Paul, lives in Canada.\"\n",
        "\n",
        "print(nlp(question=\"Where does Darek live?\", context=context))\n",
        "print(nlp(question=\"Where does Paul live?\", context=context))"
      ],
      "execution_count": 37,
      "outputs": [
        {
          "output_type": "display_data",
          "data": {
            "application/vnd.jupyter.widget-view+json": {
              "model_id": "533a20b53f8f4c57ba48ad937f73ef74",
              "version_minor": 0,
              "version_major": 2
            },
            "text/plain": [
              "HBox(children=(FloatProgress(value=0.0, description='Downloading', max=230.0, style=ProgressStyle(description_…"
            ]
          },
          "metadata": {
            "tags": []
          }
        },
        {
          "output_type": "stream",
          "text": [
            "\n",
            "{'score': 0.8502292525232313, 'start': 71, 'end': 77, 'answer': 'Warsaw'}\n",
            "{'score': 0.9584999083856722, 'start': 134, 'end': 140, 'answer': 'Canada.'}\n"
          ],
          "name": "stdout"
        }
      ]
    },
    {
      "cell_type": "markdown",
      "metadata": {
        "id": "WGIKYr09swO3",
        "colab_type": "text"
      },
      "source": [
        "### Other use cases and fine-tuning\n",
        "\n",
        "There are some other interesting use cases for transformer-based models, such as text summarization, text generation, or translation. BERT is not designed to do these tasks specifically, so I will not cover them here. \n",
        "\n",
        "The examples above are based on pre-trained pipelines, which means that they may be useful for us if our data is similar to what they were trained on. Very often, we will need to fine-tune a pretrained model to fit our data or task. This is much more efficient than training a whole model from scratch, and with few examples we can often achieve very good performance. \n",
        "\n",
        "To be able to do fine-tuning, we need to understand a bit more about BERT. "
      ]
    },
    {
      "cell_type": "markdown",
      "metadata": {
        "id": "BpYDF4-KuSeO",
        "colab_type": "text"
      },
      "source": [
        "## What are the inputs to BERT, and what comes out of it?\n",
        "\n",
        "Let's start by treating BERT as a black box. The minimum that we need to understand to use the black box is what data to feed into it, and what type of outputs to expect. You can build on top of these outputs, for example by adding one or more linear layers. You can then fine-tune your custom architecture on your data. "
      ]
    },
    {
      "cell_type": "markdown",
      "metadata": {
        "id": "ByQG6x3oynAK",
        "colab_type": "text"
      },
      "source": [
        "### Tokenization\n",
        "\n",
        "Before you feed your text into BERT, you need to turn it into numbers. That's the role of a tokenizer. Some tokenizers split text on spaces, so that each token corresponds to a word. That would result however in a huge vocabulary, which makes training a model more difficult, so instead BERT relies on sub-word tokenization. Let's see how it works in code. \n",
        "\n",
        "Each pre-trained model comes with a pre-trained tokenizer (we can't separate them), so we need to download it as well. Let's use it then to tokenize a line of text and see the output. \n",
        "\n"
      ]
    },
    {
      "cell_type": "code",
      "metadata": {
        "id": "TLpsRxf1ut-W",
        "colab_type": "code",
        "colab": {}
      },
      "source": [
        "tokenizer = BertTokenizer.from_pretrained('bert-base-uncased')"
      ],
      "execution_count": 0,
      "outputs": []
    },
    {
      "cell_type": "code",
      "metadata": {
        "id": "cWTVIezwuQjW",
        "colab_type": "code",
        "outputId": "c90b7600-ba12-49ae-b08e-ed7502cada75",
        "colab": {
          "base_uri": "https://localhost:8080/",
          "height": 34
        }
      },
      "source": [
        "text = 'I like to practice kungfu.'\n",
        "tokens = tokenizer.encode(text)\n",
        "print(tokens)"
      ],
      "execution_count": 39,
      "outputs": [
        {
          "output_type": "stream",
          "text": [
            "[101, 1045, 2066, 2000, 3218, 18577, 11263, 1012, 102]\n"
          ],
          "name": "stdout"
        }
      ]
    },
    {
      "cell_type": "markdown",
      "metadata": {
        "id": "1qHtWoAusHqq",
        "colab_type": "text"
      },
      "source": [
        "Each token is a number that corresponds to a word (or subword) in the vocabulary. The most frequent words are represented as a whole word, while less frequent words are divided in sub-words. That ensures that we can map the entire corpus to a fixed size vocabulary without unknown tokens (in reality, they may still come up in rare cases). Let's see the length of our model's vocabulary, and how the tokens corresponds to words."
      ]
    },
    {
      "cell_type": "code",
      "metadata": {
        "id": "IWO6uqYKKt_Z",
        "colab_type": "code",
        "colab": {
          "base_uri": "https://localhost:8080/",
          "height": 208
        },
        "outputId": "6e1a909e-5775-42ba-aad4-aa8641bd675b"
      },
      "source": [
        "print(f'Length of BERT base vocabulary: {len(tokenizer.vocab)}')\n",
        "print(f'Text: {text}')\n",
        "for t in tokens:\n",
        "  print(f'Token: {t}, subword: {tokenizer.decode([t])}')"
      ],
      "execution_count": 40,
      "outputs": [
        {
          "output_type": "stream",
          "text": [
            "Length of BERT base vocabulary: 30522\n",
            "Text: I like to practice kungfu.\n",
            "Token: 101, subword: [CLS]\n",
            "Token: 1045, subword: i\n",
            "Token: 2066, subword: like\n",
            "Token: 2000, subword: to\n",
            "Token: 3218, subword: practice\n",
            "Token: 18577, subword: kung\n",
            "Token: 11263, subword: ##fu\n",
            "Token: 1012, subword: .\n",
            "Token: 102, subword: [SEP]\n"
          ],
          "name": "stdout"
        }
      ]
    },
    {
      "cell_type": "markdown",
      "metadata": {
        "id": "bOq9aks0ud-k",
        "colab_type": "text"
      },
      "source": [
        "In the example, you can see how the tokenizer split a less common word 'kungfu' into 2 subwords: 'kung' and '##fu'. The '##' characters inform us that this subword occurs in the middle of a word. BERT tokenizer also added 2 special tokens for us, that are expected by the model: [CLS] which comes at the beginning of every sequence, and [SEP] that comes at the end. [SEP] may optionally also be used to separate two sequences, for example between question and context in a question answering scenario. Another example of a special token is [PAD], we need to use it to pad shorter sequences in a batch, because BERT expects each example in a batch to have the same amount of tokens."
      ]
    },
    {
      "cell_type": "markdown",
      "metadata": {
        "id": "X5MJo1jsv8YJ",
        "colab_type": "text"
      },
      "source": [
        "### Outputs\n",
        "\n",
        "Let's download a pretrained model now, run our text through it, and see what comes out. We will first need to convert the tokens into tensors, and add the batch size dimension (here, we will work with batch size 1). "
      ]
    },
    {
      "cell_type": "code",
      "metadata": {
        "id": "XyCF-iyFw2_Y",
        "colab_type": "code",
        "colab": {}
      },
      "source": [
        "model = BertModel.from_pretrained('bert-base-uncased')"
      ],
      "execution_count": 0,
      "outputs": []
    },
    {
      "cell_type": "code",
      "metadata": {
        "id": "rjHAK4g8w_-d",
        "colab_type": "code",
        "outputId": "e98e33c6-105a-4f80-e433-3079a40750ec",
        "colab": {
          "base_uri": "https://localhost:8080/",
          "height": 69
        }
      },
      "source": [
        "inputs = torch.tensor(tokens).unsqueeze(0) # Batch size 1\n",
        "outputs = model(inputs)\n",
        "print(f'output type: {type(outputs)}, output length: {len(outputs)}')\n",
        "print(f'first item shape: {outputs[0].shape}')\n",
        "print(f'second item shape: {outputs[1].shape}')"
      ],
      "execution_count": 42,
      "outputs": [
        {
          "output_type": "stream",
          "text": [
            "output type: <class 'tuple'>, output length: 2\n",
            "first item shape: torch.Size([1, 9, 768])\n",
            "second item shape: torch.Size([1, 768])\n"
          ],
          "name": "stdout"
        }
      ]
    },
    {
      "cell_type": "markdown",
      "metadata": {
        "id": "fM7ahH5yxju1",
        "colab_type": "text"
      },
      "source": [
        "In the examples above, we used BERT to handle some useful tasks, such as text classification, named entity recognition, or question answering. For each of those tasks, a task-specific model head was added on top of raw model outputs.\n",
        "Here, we are dealing with the raw model outputs - we need to understand them to be able to add custom heads to solve our own, specific tasks. \n",
        "\n",
        "The model outputs a tuple. The first item of the tuple has the following shape: 1 (batch size) x 9 (sequence length) x 768 (the number of hidden units). This is called the sequence output, and it provides the representation of each token in the context of other tokens in the sequence. If we'd like to fine-tune our model for named entity recognition, we will use this output and expect the 768 numbers representing each token in a sequence to inform us if the token corresponds to a named entity. \n",
        "\n",
        "The second item in the tuple has the shape: 1 (batch size) x 768 (the number of hidden units). It is called the pooled output, and in theory it should represent the entire sequence. It corresponds to the first token in a sequence (the [CLS] token). We can use it in a text classification task - for example when we fine-tune the model for sentiment classification, we'd expect the 768 hidden units of the pooled output to capture the sentiment of the text. \n",
        "\n",
        "In practice, we may want to use some other way to capture the meaning of the sequence, for example by averaging the sequence output, or even concatenating the hidden states from lower levels. \n"
      ]
    },
    {
      "cell_type": "markdown",
      "metadata": {
        "id": "UXxk_DQPuWe5",
        "colab_type": "text"
      },
      "source": [
        "## How was BERT trained?\n",
        "\n",
        "The models we have been using so far have already been pre-trained, and in some cases fine-tuned as well. What does this actually mean? \n",
        "\n",
        "### Pre-training\n",
        "\n",
        "In order for a model to solve an NLP task, like sentiment classification, it needs to understand a lot about language. Most of the labelled datasets that we have available are too small to teach our model enough about language. Ideally, we'd like to use all the text we have available, for example all books and the internet. Because it's hard to label so much text, we create 'fake tasks' that will help us achieve our goal without manual labelling. \n",
        "\n",
        "BERT is trained on a very large corpus using two 'fake tasks': masked language modeling (MLM) and next sentence prediction (NSP). In MLM, we randomly hide some tokens in a sequence, and ask the model to predict which tokens are missing. In NSP, we provide our model with two sentences, and ask it to predict if the second sentence follows the first one in our corpus. The intent of these tasks is for our model to be able to represent the meaning of both individual words, and the entire sentences. "
      ]
    },
    {
      "cell_type": "code",
      "metadata": {
        "id": "U_oMYMin1Az7",
        "colab_type": "code",
        "outputId": "27cd3505-4a7c-4e3d-d4fd-a3ceb480a77a",
        "colab": {
          "base_uri": "https://localhost:8080/",
          "height": 275,
          "referenced_widgets": [
            "088fc19cca5d459093d192c921a20a1d",
            "e7844cad7b25460cb7d027ee38b90f00",
            "5e0c0ba9fe7243e6b468417d6e0c3995",
            "f9ce3cfb762d4c42ac34335503e9016c",
            "ba6c00e4e2f14a51b85bf42b5484333b",
            "43e05f14fc7a4de6baaff9fafe97755c",
            "c508fd357df441baaae07aee4d5f75a4",
            "654a4c9f5c554b8c8943d2a9fe2be7a0"
          ]
        }
      },
      "source": [
        "nlp = pipeline(\"fill-mask\")\n",
        "preds = nlp(f\"I am exhausted, it's been a very {nlp.tokenizer.mask_token} day.\")\n",
        "print('I am exhausted, it\\'s been a very ***** day.')\n",
        "for p in preds: print(nlp.tokenizer.decode([p['token']]))\n",
        "preds = nlp(f\"I am excited, it's been a very {nlp.tokenizer.mask_token} day.\")\n",
        "print('I am excited, it\\'s been a very ***** day.')\n",
        "for p in preds: print(nlp.tokenizer.decode([p['token']]))"
      ],
      "execution_count": 43,
      "outputs": [
        {
          "output_type": "display_data",
          "data": {
            "application/vnd.jupyter.widget-view+json": {
              "model_id": "088fc19cca5d459093d192c921a20a1d",
              "version_minor": 0,
              "version_major": 2
            },
            "text/plain": [
              "HBox(children=(FloatProgress(value=0.0, description='Downloading', max=230.0, style=ProgressStyle(description_…"
            ]
          },
          "metadata": {
            "tags": []
          }
        },
        {
          "output_type": "stream",
          "text": [
            "\n",
            "I am exhausted, it's been a very ***** day.\n",
            " busy\n",
            " exhausting\n",
            " stressful\n",
            " taxing\n",
            " rough\n",
            "I am excited, it's been a very ***** day.\n",
            " busy\n",
            " exciting\n",
            " productive\n",
            " good\n",
            " nice\n"
          ],
          "name": "stdout"
        }
      ]
    },
    {
      "cell_type": "code",
      "metadata": {
        "id": "M07iFBeZwMBn",
        "colab_type": "code",
        "outputId": "3598f8ac-2a5c-4ce8-baf3-f5440f0e864f",
        "colab": {
          "base_uri": "https://localhost:8080/",
          "height": 86
        }
      },
      "source": [
        "tokenizer = BertTokenizer.from_pretrained('bert-base-uncased')\n",
        "model = BertForNextSentencePrediction.from_pretrained('bert-base-uncased')\n",
        "\n",
        "first_sentence = \"I cut my finger.\"\n",
        "second_sentence_right = \"The blood started flowing.\"\n",
        "second_sentence_wrong = \"This website uses cookies.\"\n",
        "\n",
        "right = tokenizer.encode_plus(first_sentence, text_pair=second_sentence_right)\n",
        "wrong = tokenizer.encode_plus(first_sentence, text_pair=second_sentence_wrong)\n",
        "\n",
        "r1, r2, r3 = torch.tensor(right['input_ids']).unsqueeze(0), torch.tensor(right['token_type_ids']).unsqueeze(0), torch.tensor(right['attention_mask']).unsqueeze(0)\n",
        "w1, w2, w3 = torch.tensor(wrong['input_ids']).unsqueeze(0), torch.tensor(wrong['token_type_ids']).unsqueeze(0), torch.tensor(wrong['attention_mask']).unsqueeze(0)\n",
        "\n",
        "right_outputs = model(input_ids=r1, token_type_ids=r2, attention_mask=r3)\n",
        "right_seq_relationship_scores = right_outputs[0]\n",
        "wrong_outputs = model(input_ids=w1, token_type_ids=w2, attention_mask=w3)\n",
        "wrong_seq_relationship_scores = wrong_outputs[0]\n",
        "\n",
        "print(first_sentence + ' ' + second_sentence_right)\n",
        "print(f'Next sentence prediction: {right_seq_relationship_scores.detach().numpy().flatten()[0] > 0}')\n",
        "print(first_sentence + ' ' + second_sentence_wrong)\n",
        "print(f'Next sentence prediction: {wrong_seq_relationship_scores.detach().numpy().flatten()[0] > 0}')"
      ],
      "execution_count": 44,
      "outputs": [
        {
          "output_type": "stream",
          "text": [
            "I cut my finger. The blood started flowing.\n",
            "Next sentence prediction: True\n",
            "I cut my finger. This website uses cookies.\n",
            "Next sentence prediction: False\n"
          ],
          "name": "stdout"
        }
      ]
    },
    {
      "cell_type": "markdown",
      "metadata": {
        "id": "Uk3_LaX58agZ",
        "colab_type": "text"
      },
      "source": [
        "### Finetuning\n",
        "\n",
        "As we can see from the examples above, BERT has learned quite a lot about language during pretraining. That knowledge is represented in its outputs - the hidden units corresponding to tokens in a sequence. We can use that knowledge by adding our own, custom layers on top of BERT outputs, and further training (finetuning) it on our own data. "
      ]
    },
    {
      "cell_type": "markdown",
      "metadata": {
        "id": "V4ovi74QvIOM",
        "colab_type": "text"
      },
      "source": [
        "## How does BERT really work?\n",
        "\n",
        "If training a model is like training a dog, then understanding the internals of BERT is like understanding the anatomy of a dog. It's not required to effectively train a model, but it can be helpful if you want to do some really advanced stuff, or if you want to understand the limits of what is possible. \n",
        "\n",
        "I will only scratch the surface here by showing the key ingredients of BERT architecture, and at the end I will point to some additional resources I have found very helpful. \n",
        "\n",
        "Let's start by loading up basic BERT configuration and looking what's inside."
      ]
    },
    {
      "cell_type": "code",
      "metadata": {
        "id": "V_7sRhok-22d",
        "colab_type": "code",
        "colab": {
          "base_uri": "https://localhost:8080/",
          "height": 295
        },
        "outputId": "e95f6eb1-7449-40be-c0dc-3b8901d90b52"
      },
      "source": [
        "config = BertConfig()\n",
        "config"
      ],
      "execution_count": 45,
      "outputs": [
        {
          "output_type": "execute_result",
          "data": {
            "text/plain": [
              "BertConfig {\n",
              "  \"attention_probs_dropout_prob\": 0.1,\n",
              "  \"hidden_act\": \"gelu\",\n",
              "  \"hidden_dropout_prob\": 0.1,\n",
              "  \"hidden_size\": 768,\n",
              "  \"initializer_range\": 0.02,\n",
              "  \"intermediate_size\": 3072,\n",
              "  \"layer_norm_eps\": 1e-12,\n",
              "  \"max_position_embeddings\": 512,\n",
              "  \"model_type\": \"bert\",\n",
              "  \"num_attention_heads\": 12,\n",
              "  \"num_hidden_layers\": 12,\n",
              "  \"pad_token_id\": 0,\n",
              "  \"type_vocab_size\": 2,\n",
              "  \"vocab_size\": 30522\n",
              "}"
            ]
          },
          "metadata": {
            "tags": []
          },
          "execution_count": 45
        }
      ]
    },
    {
      "cell_type": "markdown",
      "metadata": {
        "id": "dklu3hZ3_6Ff",
        "colab_type": "text"
      },
      "source": [
        "This configuration file lists the key dimensions that determine the size of the model: \n",
        "* 768 hidden size is the number of floats in a vector representing each token in the vocabulary\n",
        "* 30522 is the vocabulary size\n",
        "* We can deal with max 512 tokens in a sequence\n",
        "* The initial embeddings will go through 12 layers of computation, including the application of 12 attention heads and dense layers with 3072 hidden units, to produce our final output, which will again be a vector with 768 units per token\n",
        "\n",
        "Let's briefly look at each major building block of the model architecture. We start with the embedding layer, which maps each vocabulary token to a 768-long embedding. We can also see position embeddings, which are trained to represent the ordering of words in a sequence, and token type embeddings, which are used if we want to distinguish between two sequences (for example question and context). "
      ]
    },
    {
      "cell_type": "code",
      "metadata": {
        "id": "4Lxy9rfllq__",
        "colab_type": "code",
        "outputId": "b113c339-7ea7-420c-e269-263b26b4c8f5",
        "colab": {
          "base_uri": "https://localhost:8080/",
          "height": 139
        }
      },
      "source": [
        "model = BertModel(config)\n",
        "print(model.embeddings)"
      ],
      "execution_count": 46,
      "outputs": [
        {
          "output_type": "stream",
          "text": [
            "BertEmbeddings(\n",
            "  (word_embeddings): Embedding(30522, 768, padding_idx=0)\n",
            "  (position_embeddings): Embedding(512, 768)\n",
            "  (token_type_embeddings): Embedding(2, 768)\n",
            "  (LayerNorm): LayerNorm((768,), eps=1e-12, elementwise_affine=True)\n",
            "  (dropout): Dropout(p=0.1, inplace=False)\n",
            ")\n"
          ],
          "name": "stdout"
        }
      ]
    },
    {
      "cell_type": "markdown",
      "metadata": {
        "id": "EoiiyMSkCdi9",
        "colab_type": "text"
      },
      "source": [
        "Then, we pass the embeddings through 12 layers of computation. This starts with self-attention, is followed by an intermediate dense layer with hidden size 3072, and ends with sequence output that we have already seen above. Usually, we will deal with the last hidden state, i.e. the 12th layer. However, to achieve better results, we may sometimes use the layers below as well to represent our sequences, for example by concatenating the last 4 hidden states. "
      ]
    },
    {
      "cell_type": "code",
      "metadata": {
        "id": "8h2YOt_al4IN",
        "colab_type": "code",
        "outputId": "44d054e4-8664-4f01-8147-28f1009e1672",
        "colab": {
          "base_uri": "https://localhost:8080/",
          "height": 451
        }
      },
      "source": [
        "print(f'There are {len(model.encoder.layer)} layers like this in the model architecture:')\n",
        "print('---')\n",
        "print(model.encoder.layer[0])"
      ],
      "execution_count": 47,
      "outputs": [
        {
          "output_type": "stream",
          "text": [
            "There are 12 layers like this in the model architecture:\n",
            "---\n",
            "BertLayer(\n",
            "  (attention): BertAttention(\n",
            "    (self): BertSelfAttention(\n",
            "      (query): Linear(in_features=768, out_features=768, bias=True)\n",
            "      (key): Linear(in_features=768, out_features=768, bias=True)\n",
            "      (value): Linear(in_features=768, out_features=768, bias=True)\n",
            "      (dropout): Dropout(p=0.1, inplace=False)\n",
            "    )\n",
            "    (output): BertSelfOutput(\n",
            "      (dense): Linear(in_features=768, out_features=768, bias=True)\n",
            "      (LayerNorm): LayerNorm((768,), eps=1e-12, elementwise_affine=True)\n",
            "      (dropout): Dropout(p=0.1, inplace=False)\n",
            "    )\n",
            "  )\n",
            "  (intermediate): BertIntermediate(\n",
            "    (dense): Linear(in_features=768, out_features=3072, bias=True)\n",
            "  )\n",
            "  (output): BertOutput(\n",
            "    (dense): Linear(in_features=3072, out_features=768, bias=True)\n",
            "    (LayerNorm): LayerNorm((768,), eps=1e-12, elementwise_affine=True)\n",
            "    (dropout): Dropout(p=0.1, inplace=False)\n",
            "  )\n",
            ")\n"
          ],
          "name": "stdout"
        }
      ]
    },
    {
      "cell_type": "markdown",
      "metadata": {
        "id": "36FXJwCDDh70",
        "colab_type": "text"
      },
      "source": [
        "Finally, we have the pooled output, which is used in pre-training for the NSP task, and corresponds to the [CLS] token hidden state that goes through another linear layer. "
      ]
    },
    {
      "cell_type": "code",
      "metadata": {
        "id": "SBdDuGBll6HD",
        "colab_type": "code",
        "outputId": "1fdbea3c-b730-4a83-ed13-7da569b8e831",
        "colab": {
          "base_uri": "https://localhost:8080/",
          "height": 86
        }
      },
      "source": [
        "print(model.pooler)"
      ],
      "execution_count": 48,
      "outputs": [
        {
          "output_type": "stream",
          "text": [
            "BertPooler(\n",
            "  (dense): Linear(in_features=768, out_features=768, bias=True)\n",
            "  (activation): Tanh()\n",
            ")\n"
          ],
          "name": "stdout"
        }
      ]
    },
    {
      "cell_type": "markdown",
      "metadata": {
        "id": "SufNENOlD1v-",
        "colab_type": "text"
      },
      "source": [
        "In this overview, I haven't explained at all the self-attention mechanism, or the detailed inner workings of BERT. If you'd like to learn further, here are some materials that I have found very useful. \n",
        "* Chris Mccormick [BERT Research Series on Youtube](https://www.youtube.com/playlist?list=PLam9sigHPGwOBuH4_4fr-XvDbe5uneaf6)\n",
        "* Jay Alammar [A Visual Guide to Using BERT for the First Time](http://jalammar.github.io/a-visual-guide-to-using-bert-for-the-first-time/)\n",
        "* Jay Alammar [The Illustrated Transformer](http://jalammar.github.io/illustrated-transformer/)\n",
        "* Peter Bloem [Transformers from Scratch](http://www.peterbloem.nl/blog/transformers)"
      ]
    }
  ]
}